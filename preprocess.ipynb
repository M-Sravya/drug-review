{
  "cells": [
    {
      "cell_type": "markdown",
      "metadata": {
        "id": "view-in-github",
        "colab_type": "text"
      },
      "source": [
        "<a href=\"https://colab.research.google.com/github/M-Sravya/drug-review/blob/main/preprocess.ipynb\" target=\"_parent\"><img src=\"https://colab.research.google.com/assets/colab-badge.svg\" alt=\"Open In Colab\"/></a>"
      ]
    },
    {
      "cell_type": "code",
      "execution_count": null,
      "metadata": {
        "colab": {
          "base_uri": "https://localhost:8080/"
        },
        "id": "03iPLZ7RfAwb",
        "outputId": "92b41914-89e5-4ff1-906d-e84965fd6e3e"
      },
      "outputs": [
        {
          "name": "stdout",
          "output_type": "stream",
          "text": [
            "Mounted at /content/drive\n"
          ]
        }
      ],
      "source": [
        "from google.colab import drive\n",
        "\n",
        "# Mount Google Drive\n",
        "drive.mount('/content/drive')\n"
      ]
    },
    {
      "cell_type": "code",
      "source": [
        "import pandas as pd\n",
        "import numpy as np\n",
        "import re\n",
        "import nltk\n",
        "from nltk.corpus import stopwords\n",
        "from nltk.stem import WordNetLemmatizer\n",
        "\n",
        "# Download NLTK data\n",
        "nltk.download('stopwords')\n",
        "nltk.download('wordnet')\n",
        "\n",
        "# Sample review data\n",
        "reviews = [\n",
        "    \"I smoked for 50+ years.  Took it for one week and that was it.  I didn&#039;t think it was possible for me to quit.  It has been 6 years now.  Great product.\"\n",
        "]\n",
        "\n",
        "df = pd.DataFrame(reviews, columns=['review'])\n"
      ],
      "metadata": {
        "colab": {
          "base_uri": "https://localhost:8080/"
        },
        "id": "fDQB7H53EuIw",
        "outputId": "4e2616b9-068d-43e5-8966-0510afa30ff1"
      },
      "execution_count": null,
      "outputs": [
        {
          "output_type": "stream",
          "name": "stderr",
          "text": [
            "[nltk_data] Downloading package stopwords to /root/nltk_data...\n",
            "[nltk_data]   Unzipping corpora/stopwords.zip.\n",
            "[nltk_data] Downloading package wordnet to /root/nltk_data...\n"
          ]
        }
      ]
    },
    {
      "cell_type": "code",
      "source": [
        "df['review'] = df['review'].str.lower()\n",
        "print(df.head())\n"
      ],
      "metadata": {
        "colab": {
          "base_uri": "https://localhost:8080/"
        },
        "id": "8kVIWWLIFBAF",
        "outputId": "83298a98-3599-4167-f4b6-223e6b409260"
      },
      "execution_count": null,
      "outputs": [
        {
          "output_type": "stream",
          "name": "stdout",
          "text": [
            "                                              review\n",
            "0  i smoked for 50+ years.  took it for one week ...\n"
          ]
        }
      ]
    },
    {
      "cell_type": "code",
      "source": [
        "import string\n",
        "\n",
        "def remove_punctuation(text):\n",
        "  \"\"\"Removes punctuation from a given text.\"\"\"\n",
        "  translator = str.maketrans('', '', string.punctuation)\n",
        "  return text.translate(translator)\n",
        "\n",
        "df['review'] = df['review'].apply(remove_punctuation)\n",
        "print(df.head())\n"
      ],
      "metadata": {
        "colab": {
          "base_uri": "https://localhost:8080/"
        },
        "id": "fNWwfsKXFKB7",
        "outputId": "7cd6789c-3752-4b67-fba7-b0a81467b589"
      },
      "execution_count": null,
      "outputs": [
        {
          "output_type": "stream",
          "name": "stdout",
          "text": [
            "                                              review\n",
            "0  i smoked for 50 years  took it for one week an...\n"
          ]
        }
      ]
    },
    {
      "cell_type": "code",
      "source": [
        "def remove_numbers(text):\n",
        "  \"\"\"Removes numbers from a given text.\"\"\"\n",
        "  output = re.sub(r'\\d+', '', text)\n",
        "  return output\n",
        "\n",
        "df['review'] = df['review'].apply(remove_numbers)\n",
        "print(df.head())\n"
      ],
      "metadata": {
        "colab": {
          "base_uri": "https://localhost:8080/"
        },
        "id": "Jn2usiDVFPrK",
        "outputId": "d238a2b6-0229-43cf-ce2c-7ff4d5d82644"
      },
      "execution_count": null,
      "outputs": [
        {
          "output_type": "stream",
          "name": "stdout",
          "text": [
            "                                              review\n",
            "0  i smoked for  years  took it for one week and ...\n"
          ]
        }
      ]
    },
    {
      "cell_type": "code",
      "source": [
        "df['review'] = df['review'].apply(lambda x: x.split())\n",
        "print(df.head())\n"
      ],
      "metadata": {
        "colab": {
          "base_uri": "https://localhost:8080/"
        },
        "id": "3EIK2KbZFVXr",
        "outputId": "68b94f49-1907-4d2d-9c3a-4dc5ff757a81"
      },
      "execution_count": null,
      "outputs": [
        {
          "output_type": "stream",
          "name": "stdout",
          "text": [
            "                                              review\n",
            "0  [i, smoked, for, years, took, it, for, one, we...\n"
          ]
        }
      ]
    },
    {
      "cell_type": "code",
      "source": [
        "stop_words = set(stopwords.words('english'))\n",
        "df['review'] = df['review'].apply(lambda x: [word for word in x if not word in stop_words])\n",
        "print(df.head())\n"
      ],
      "metadata": {
        "colab": {
          "base_uri": "https://localhost:8080/"
        },
        "id": "ygHX2A93Fa7y",
        "outputId": "62fb8f08-4e56-432d-e192-76e540cbd43d"
      },
      "execution_count": null,
      "outputs": [
        {
          "output_type": "stream",
          "name": "stdout",
          "text": [
            "                                              review\n",
            "0  [smoked, years, took, one, week, didnt, think,...\n"
          ]
        }
      ]
    },
    {
      "cell_type": "code",
      "source": [
        "lemmatizer = WordNetLemmatizer()\n",
        "df['review'] = df['review'].apply(lambda x: [lemmatizer.lemmatize(word) for word in x])\n",
        "print(df.head())\n"
      ],
      "metadata": {
        "colab": {
          "base_uri": "https://localhost:8080/"
        },
        "id": "BmIDpNUkFfhl",
        "outputId": "6ab4e8f7-5033-4ddf-ee30-17f19318c0bd"
      },
      "execution_count": null,
      "outputs": [
        {
          "output_type": "stream",
          "name": "stdout",
          "text": [
            "                                              review\n",
            "0  [smoked, year, took, one, week, didnt, think, ...\n"
          ]
        }
      ]
    },
    {
      "cell_type": "code",
      "source": [
        "df['review'] = df['review'].apply(lambda x: ' '.join(x))\n",
        "print(df.head())\n"
      ],
      "metadata": {
        "colab": {
          "base_uri": "https://localhost:8080/"
        },
        "id": "JaoziRcnFkLz",
        "outputId": "8ec9762f-1a6e-47e4-f5e8-94548adc4688"
      },
      "execution_count": null,
      "outputs": [
        {
          "output_type": "stream",
          "name": "stdout",
          "text": [
            "                                              review\n",
            "0  smoked year took one week didnt think possible...\n"
          ]
        }
      ]
    },
    {
      "cell_type": "code",
      "source": [
        "import pandas as pd\n",
        "import numpy as np\n",
        "\n",
        "# Sample review data (replace with your actual data)\n",
        "data = {'drugname': ['valsartan', 'cialis', 'cialis',np.nan, 'levora'],\n",
        "        'condition': ['Acne', 'Depression', np.nan, 'Acne', 'Birth control']}\n",
        "\n",
        "df = pd.DataFrame(data)\n",
        "\n",
        "\n",
        "print(df)\n"
      ],
      "metadata": {
        "colab": {
          "base_uri": "https://localhost:8080/"
        },
        "id": "xP5to_NJF3I2",
        "outputId": "eab2942b-948a-4357-cc02-e5bb67204d11"
      },
      "execution_count": null,
      "outputs": [
        {
          "output_type": "stream",
          "name": "stdout",
          "text": [
            "    drugname      condition\n",
            "0  valsartan           Acne\n",
            "1     cialis     Depression\n",
            "2     cialis            NaN\n",
            "3        NaN           Acne\n",
            "4     levora  Birth control\n"
          ]
        }
      ]
    },
    {
      "cell_type": "code",
      "source": [
        "# Handling NaN values\n",
        "df.fillna('data not available', inplace=True)\n",
        "\n",
        "print(df)"
      ],
      "metadata": {
        "colab": {
          "base_uri": "https://localhost:8080/"
        },
        "id": "UNq17O5lGsB4",
        "outputId": "9b1d11e9-5f22-4d4d-838c-48b1d678297d"
      },
      "execution_count": null,
      "outputs": [
        {
          "output_type": "stream",
          "name": "stdout",
          "text": [
            "             drugname           condition\n",
            "0           valsartan                Acne\n",
            "1              cialis          Depression\n",
            "2              cialis  data not available\n",
            "3  data not available                Acne\n",
            "4              levora       Birth control\n"
          ]
        }
      ]
    },
    {
      "cell_type": "code",
      "source": [
        "import pandas as pd\n",
        "\n",
        "# Sample data\n",
        "data = {'drugname': ['valsartan', 'cialis', 'cialis', 'NaN', 'levora'],\n",
        "        'condition': ['Acne', 'Depression', 'Depression', 'Acne', 'Birth control']}\n",
        "df = pd.DataFrame(data)\n",
        "print(df)"
      ],
      "metadata": {
        "colab": {
          "base_uri": "https://localhost:8080/"
        },
        "id": "Aopl0XEuJBgj",
        "outputId": "772af82d-b6e9-45a0-fb80-0e7f3b358ab7"
      },
      "execution_count": null,
      "outputs": [
        {
          "output_type": "stream",
          "name": "stdout",
          "text": [
            "    drugname      condition\n",
            "0  valsartan           Acne\n",
            "1     cialis     Depression\n",
            "2     cialis     Depression\n",
            "3        NaN           Acne\n",
            "4     levora  Birth control\n"
          ]
        }
      ]
    },
    {
      "cell_type": "code",
      "source": [
        "import pandas as pd\n",
        "\n",
        "# Sample data\n",
        "data = {'drugname': ['valsartan', 'cialis', 'cialis', 'NaN', 'levora'],\n",
        "        'condition': ['Acne', 'Depression', 'Depression', 'Acne', 'Birth control']}\n",
        "df = pd.DataFrame(data)\n",
        "\n",
        "# Remove duplicates based on 'column1' and 'column2'\n",
        "df_without_duplicates = df.drop_duplicates(subset=['drugname', 'condition'])\n",
        "\n",
        "print(df_without_duplicates)\n"
      ],
      "metadata": {
        "colab": {
          "base_uri": "https://localhost:8080/"
        },
        "id": "3nYv_z_0H5RV",
        "outputId": "66bb777b-06ce-4b31-915d-caafce5107e3"
      },
      "execution_count": null,
      "outputs": [
        {
          "output_type": "stream",
          "name": "stdout",
          "text": [
            "    drugname      condition\n",
            "0  valsartan           Acne\n",
            "1     cialis     Depression\n",
            "3        NaN           Acne\n",
            "4     levora  Birth control\n"
          ]
        }
      ]
    }
  ],
  "metadata": {
    "colab": {
      "provenance": [],
      "include_colab_link": true
    },
    "kernelspec": {
      "display_name": "Python 3",
      "name": "python3"
    },
    "language_info": {
      "name": "python"
    }
  },
  "nbformat": 4,
  "nbformat_minor": 0
}